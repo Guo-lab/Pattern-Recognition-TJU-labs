{
 "cells": [
  {
   "cell_type": "code",
   "execution_count": 1,
   "metadata": {},
   "outputs": [],
   "source": [
    "#lib\n",
    "import numpy as np\n",
    "from sklearn import svm\n",
    "from sklearn import model_selection\n",
    "import matplotlib.pyplot as plt\n",
    "import matplotlib as mpl\n",
    "\n",
    "data_path = \"tumor.data\""
   ]
  },
  {
   "cell_type": "code",
   "execution_count": 27,
   "metadata": {},
   "outputs": [],
   "source": [
    "# Function\n",
    "def tumor_type(s):\n",
    "    it = {b'Grade_1':0, b'Grade_2_invasion':1, b'Grade_2_noninvasion':2}\n",
    "    return it[s]"
   ]
  },
  {
   "cell_type": "markdown",
   "metadata": {},
   "source": [
    "### Import Data"
   ]
  },
  {
   "cell_type": "code",
   "execution_count": 28,
   "metadata": {},
   "outputs": [],
   "source": [
    "data = np.loadtxt(data_path, \n",
    "    dtype=float,\n",
    "    delimiter=',', \n",
    "    converters={7:tumor_type})\n",
    "\n",
    "# x: feature, y: label\n",
    "x, y = np.split(data, (7,), axis=1)"
   ]
  },
  {
   "cell_type": "code",
   "execution_count": 21,
   "metadata": {},
   "outputs": [
    {
     "data": {
      "text/plain": [
       "array([[ 0. , 51. ,  5.2,  1. ],\n",
       "       [ 0. , 41. ,  5.2,  1. ],\n",
       "       [ 0. , 64. ,  3.5,  1. ],\n",
       "       [ 0. , 60. ,  2.5,  1. ],\n",
       "       [ 0. , 46. ,  6.8,  1. ],\n",
       "       [ 1. , 57. ,  6.2,  1. ],\n",
       "       [ 1. , 60. ,  5. ,  2. ],\n",
       "       [ 0. , 63. ,  4. ,  1. ],\n",
       "       [ 0. , 60. ,  2.3,  2. ],\n",
       "       [ 0. , 56. ,  2.8,  2. ],\n",
       "       [ 0. , 59. ,  3.1,  1. ],\n",
       "       [ 0. , 46. ,  2. ,  2. ],\n",
       "       [ 0. , 57. ,  3.6,  2. ],\n",
       "       [ 0. , 52. ,  5.8,  1. ],\n",
       "       [ 1. , 69. ,  5.2,  1. ],\n",
       "       [ 0. , 52. ,  2. ,  2. ],\n",
       "       [ 0. , 39. ,  3.8,  1. ],\n",
       "       [ 0. , 33. ,  2.8,  1. ],\n",
       "       [ 0. , 55. ,  3.2,  1. ],\n",
       "       [ 1. , 66. ,  4.6,  1. ],\n",
       "       [ 0. , 70. ,  4.6,  3. ],\n",
       "       [ 0. , 54. ,  2.6,  2. ],\n",
       "       [ 0. , 59. ,  3. ,  1. ],\n",
       "       [ 1. , 53. ,  1.5,  2. ],\n",
       "       [ 0. , 60. ,  3.5,  2. ],\n",
       "       [ 0. , 61. ,  4.5,  2. ],\n",
       "       [ 0. , 62. ,  5. ,  2. ],\n",
       "       [ 0. , 62. ,  2.6,  1. ],\n",
       "       [ 0. , 63. ,  3.2,  1. ],\n",
       "       [ 0. , 49. ,  4.5,  1. ],\n",
       "       [ 0. , 42. ,  2.5,  1. ],\n",
       "       [ 0. , 43. ,  4.5,  1. ],\n",
       "       [ 0. , 55. ,  4.2,  1. ],\n",
       "       [ 1. , 30. ,  4.2,  3. ],\n",
       "       [ 0. , 69. ,  3.2,  1. ],\n",
       "       [ 0. , 55. ,  3.2,  2. ],\n",
       "       [ 0. , 67. , 12.5,  1. ],\n",
       "       [ 0. , 63. ,  3. ,  1. ],\n",
       "       [ 0. , 46. ,  4.2,  1. ],\n",
       "       [ 0. , 76. , 13. ,  1. ],\n",
       "       [ 0. , 53. ,  3.4,  2. ],\n",
       "       [ 0. , 37. ,  3. ,  2. ],\n",
       "       [ 0. , 62. ,  2.6,  1. ],\n",
       "       [ 0. , 64. ,  4.2,  1. ],\n",
       "       [ 1. , 59. ,  6. ,  1. ],\n",
       "       [ 0. , 48. ,  3.2,  1. ],\n",
       "       [ 0. , 45. ,  4.5,  1. ],\n",
       "       [ 0. , 34. ,  5. ,  1. ],\n",
       "       [ 0. , 51. ,  2.4,  2. ],\n",
       "       [ 0. , 50. ,  3. ,  1. ],\n",
       "       [ 0. , 46. ,  2. ,  1. ],\n",
       "       [ 0. , 46. , 10. ,  2. ],\n",
       "       [ 0. , 57. ,  8. ,  1. ],\n",
       "       [ 0. , 57. ,  1.2,  2. ],\n",
       "       [ 0. , 68. ,  2. ,  1. ],\n",
       "       [ 0. , 58. ,  2.6,  1. ],\n",
       "       [ 0. , 47. ,  3.8,  2. ],\n",
       "       [ 0. , 42. ,  3.5,  2. ],\n",
       "       [ 0. , 58. ,  3. ,  2. ],\n",
       "       [ 0. , 64. ,  3.8,  3. ],\n",
       "       [ 1. , 53. ,  8.2,  2. ],\n",
       "       [ 0. , 45. , 10. ,  2. ],\n",
       "       [ 0. , 61. ,  3.5,  2. ],\n",
       "       [ 1. , 60. ,  3. ,  1. ],\n",
       "       [ 1. , 48. ,  4.5,  2. ],\n",
       "       [ 1. , 57. ,  5. ,  1. ],\n",
       "       [ 1. , 51. ,  6.2,  1. ],\n",
       "       [ 0. , 61. ,  3.2,  2. ],\n",
       "       [ 1. , 49. , 11.2,  1. ],\n",
       "       [ 0. , 48. ,  4. ,  2. ],\n",
       "       [ 0. , 60. ,  8. ,  2. ],\n",
       "       [ 1. , 69. ,  7.8,  1. ],\n",
       "       [ 0. , 61. ,  3.2,  1. ],\n",
       "       [ 0. , 72. ,  6. ,  1. ],\n",
       "       [ 0. , 60. ,  2.5,  2. ],\n",
       "       [ 1. , 73. , 12.4,  2. ],\n",
       "       [ 0. , 66. ,  6.5,  1. ],\n",
       "       [ 1. , 52. ,  9.6,  1. ],\n",
       "       [ 1. , 49. , 12. ,  1. ],\n",
       "       [ 0. , 55. ,  2.5,  1. ],\n",
       "       [ 0. , 62. ,  1.2,  2. ],\n",
       "       [ 0. , 48. ,  6.6,  1. ],\n",
       "       [ 0. , 65. , 13.2,  1. ],\n",
       "       [ 1. , 61. , 12. ,  1. ],\n",
       "       [ 0. , 62. ,  4.8,  2. ],\n",
       "       [ 0. , 69. ,  8. ,  1. ],\n",
       "       [ 0. , 61. ,  3.2,  2. ],\n",
       "       [ 1. , 57. ,  2. ,  2. ],\n",
       "       [ 0. , 56. ,  6.2,  1. ],\n",
       "       [ 0. , 60. ,  2.5,  1. ],\n",
       "       [ 1. , 64. ,  7.2,  1. ],\n",
       "       [ 1. , 61. ,  2.5,  2. ],\n",
       "       [ 0. , 44. ,  6. ,  2. ],\n",
       "       [ 0. , 43. ,  6. ,  1. ],\n",
       "       [ 0. , 64. ,  4. ,  1. ],\n",
       "       [ 1. , 41. ,  4.5,  1. ],\n",
       "       [ 1. , 61. ,  3.8,  2. ],\n",
       "       [ 0. , 57. , 12.8,  2. ],\n",
       "       [ 0. , 61. ,  5. ,  2. ],\n",
       "       [ 0. , 63. ,  4.2,  1. ],\n",
       "       [ 0. , 34. ,  6.5,  2. ],\n",
       "       [ 1. , 33. ,  8. ,  1. ],\n",
       "       [ 0. , 59. ,  5.6,  1. ],\n",
       "       [ 0. , 64. , 12. ,  1. ],\n",
       "       [ 1. , 38. ,  4.2,  2. ],\n",
       "       [ 1. , 71. ,  7.6,  1. ],\n",
       "       [ 0. , 54. ,  5.2,  1. ],\n",
       "       [ 1. , 36. , 12.2,  2. ],\n",
       "       [ 1. , 65. ,  2.6,  1. ],\n",
       "       [ 1. , 62. ,  3.2,  2. ],\n",
       "       [ 0. , 49. ,  2. ,  1. ],\n",
       "       [ 1. , 18. ,  6.5,  1. ],\n",
       "       [ 0. , 62. ,  1.6,  2. ],\n",
       "       [ 1. , 55. ,  6. ,  2. ],\n",
       "       [ 0. , 56. ,  4.2,  1. ],\n",
       "       [ 0. , 21. , 20. ,  3. ],\n",
       "       [ 1. , 46. ,  3.6,  2. ],\n",
       "       [ 0. , 44. ,  3.1,  2. ],\n",
       "       [ 0. , 69. , 10. ,  1. ],\n",
       "       [ 0. , 63. , 12.2,  2. ],\n",
       "       [ 0. , 55. , 15. ,  2. ],\n",
       "       [ 1. , 68. , 10. ,  1. ],\n",
       "       [ 0. , 48. ,  5. ,  2. ],\n",
       "       [ 1. , 65. , 10. ,  1. ],\n",
       "       [ 1. , 52. , 10. ,  1. ],\n",
       "       [ 0. , 60. ,  7.5,  1. ],\n",
       "       [ 0. , 47. , 10. ,  1. ],\n",
       "       [ 0. , 23. , 12. ,  1. ],\n",
       "       [ 1. , 64. , 20. ,  1. ],\n",
       "       [ 0. , 60. , 14.1,  1. ],\n",
       "       [ 1. , 61. ,  8. ,  1. ],\n",
       "       [ 0. , 50. ,  3. ,  1. ],\n",
       "       [ 0. , 57. , 15. ,  1. ],\n",
       "       [ 1. , 67. , 10. ,  2. ],\n",
       "       [ 0. , 48. ,  7.5,  2. ],\n",
       "       [ 0. , 49. ,  7. ,  2. ],\n",
       "       [ 0. , 59. ,  7.2,  1. ],\n",
       "       [ 0. , 65. ,  6.5,  3. ],\n",
       "       [ 1. , 70. ,  7.6,  1. ],\n",
       "       [ 0. , 58. , 11.6,  1. ],\n",
       "       [ 0. , 48. , 11. ,  1. ],\n",
       "       [ 0. , 63. ,  4.5,  1. ],\n",
       "       [ 1. , 74. ,  8. ,  1. ],\n",
       "       [ 1. , 47. , 14.7,  1. ],\n",
       "       [ 0. , 60. ,  9.5,  1. ],\n",
       "       [ 0. , 67. ,  8. ,  1. ],\n",
       "       [ 1. , 75. , 15.2,  2. ],\n",
       "       [ 1. , 70. , 10. ,  2. ],\n",
       "       [ 0. , 61. ,  5.2,  1. ],\n",
       "       [ 0. , 73. ,  7.4,  1. ],\n",
       "       [ 1. , 38. , 11. ,  1. ],\n",
       "       [ 0. , 49. ,  9.5,  1. ],\n",
       "       [ 1. , 27. ,  9.8,  3. ],\n",
       "       [ 0. , 68. , 32. ,  1. ],\n",
       "       [ 0. , 53. , 10. ,  1. ],\n",
       "       [ 1. , 65. ,  6.3,  1. ],\n",
       "       [ 1. , 63. , 16.3,  1. ],\n",
       "       [ 1. , 70. , 10. ,  1. ],\n",
       "       [ 1. , 63. , 10.8,  1. ],\n",
       "       [ 1. , 61. , 12.6,  1. ],\n",
       "       [ 0. , 53. ,  9.2,  1. ],\n",
       "       [ 0. , 68. ,  8. ,  1. ],\n",
       "       [ 0. , 55. , 10. ,  1. ],\n",
       "       [ 1. , 56. , 15.3,  1. ],\n",
       "       [ 0. , 32. , 12.2,  2. ],\n",
       "       [ 0. , 36. , 25. ,  1. ],\n",
       "       [ 0. , 35. ,  6.5,  1. ],\n",
       "       [ 1. , 30. ,  5.6,  2. ],\n",
       "       [ 1. , 39. ,  8.6,  2. ],\n",
       "       [ 0. , 58. , 12.8,  1. ],\n",
       "       [ 0. , 68. , 12.6,  2. ],\n",
       "       [ 0. , 67. , 20. ,  1. ],\n",
       "       [ 1. , 76. , 10. ,  1. ],\n",
       "       [ 1. , 58. , 15.6,  2. ],\n",
       "       [ 0. , 53. ,  5. ,  1. ],\n",
       "       [ 1. , 49. , 14.2,  2. ],\n",
       "       [ 1. , 63. , 10.8,  1. ],\n",
       "       [ 1. , 54. , 15. ,  2. ],\n",
       "       [ 1. , 68. ,  8.2,  2. ]])"
      ]
     },
     "execution_count": 21,
     "metadata": {},
     "output_type": "execute_result"
    }
   ],
   "source": [
    "x = x[:,:4]\n",
    "x"
   ]
  },
  {
   "cell_type": "markdown",
   "metadata": {},
   "source": [
    "---"
   ]
  },
  {
   "cell_type": "markdown",
   "metadata": {},
   "source": [
    "#### Ref from iris_cls.py"
   ]
  },
  {
   "cell_type": "code",
   "execution_count": 22,
   "metadata": {},
   "outputs": [
    {
     "name": "stdout",
     "output_type": "stream",
     "text": [
      "training prediction:0.656\n",
      "test data prediction:0.574\n"
     ]
    }
   ],
   "source": [
    "# test: 30%\n",
    "data_train, data_test, tag_train, tag_test = model_selection.train_test_split(\n",
    "    x, y, random_state=1, test_size=0.3)\n",
    "\n",
    "def classifier():\n",
    "    clf = svm.SVC(C=1000, kernel='linear', decision_function_shape='ovr')    \n",
    "    return clf\n",
    "clf = classifier()\n",
    "\n",
    "def train(clf, x_train, y_train):\n",
    "    clf.fit(x_train, y_train.ravel())\n",
    "train(clf, data_train, tag_train)\n",
    "\n",
    "def print_accuracy(clf, x_train, y_train, x_test, y_test):\n",
    "    print('training prediction:%.3f' % (clf.score(x_train, y_train)))\n",
    "    print('test data prediction:%.3f' % (clf.score(x_test, y_test)))\n",
    "print_accuracy(clf, data_train, tag_train, data_test, tag_test)"
   ]
  },
  {
   "cell_type": "markdown",
   "metadata": {},
   "source": [
    "### LinearSVC fastest\n",
    "### SGDClassifier Slower\n",
    "### SVC slowest"
   ]
  },
  {
   "cell_type": "markdown",
   "metadata": {},
   "source": [
    "---"
   ]
  },
  {
   "cell_type": "code",
   "execution_count": 24,
   "metadata": {},
   "outputs": [],
   "source": [
    "from sklearn.pipeline import Pipeline\n",
    "from sklearn.preprocessing import StandardScaler\n",
    "from sklearn.preprocessing import PolynomialFeatures\n",
    "\n",
    "from sklearn.svm import LinearSVC, SVC\n",
    "from sklearn.linear_model import SGDClassifier"
   ]
  },
  {
   "cell_type": "code",
   "execution_count": 31,
   "metadata": {},
   "outputs": [
    {
     "name": "stdout",
     "output_type": "stream",
     "text": [
      "0.8\n",
      "0.5555555555555556\n"
     ]
    }
   ],
   "source": [
    "Poly_svm_clf = Pipeline([\n",
    "    (\"poly_features\", PolynomialFeatures(degree=3)),\n",
    "    (\"scaler\", StandardScaler()),\n",
    "    (\"svm_clf\", SVC(C=100, kernel='poly', decision_function_shape='ovr'))    \n",
    "])\n",
    "Poly_svm_clf.fit(data_train, tag_train.ravel())\n",
    "\n",
    "\n",
    "train_pred = Poly_svm_clf.predict(data_train)\n",
    "test_pred = Poly_svm_clf.predict(data_test)\n",
    "\n",
    "from sklearn.metrics import accuracy_score\n",
    "print(accuracy_score(tag_train, train_pred))\n",
    "print(accuracy_score(tag_test, test_pred))"
   ]
  },
  {
   "cell_type": "markdown",
   "metadata": {},
   "source": [
    "---\n",
    "### Find the appropriate hyperparameter values\n",
    "GridSearchCV"
   ]
  },
  {
   "cell_type": "code",
   "execution_count": 30,
   "metadata": {},
   "outputs": [
    {
     "name": "stdout",
     "output_type": "stream",
     "text": [
      "[0.368 0.368 0.368 0.368 0.368 0.368 0.368 0.368 0.368 0.464 0.368 0.368\n",
      " 0.52  0.528 0.368 0.552 0.592 0.36  0.6   0.616 0.368 0.608 0.624 0.368]\n"
     ]
    }
   ],
   "source": [
    "from sklearn.model_selection import GridSearchCV\n",
    "\n",
    "parameters = {'kernel':('poly', 'rbf', 'sigmoid'), 'C':[0.0001, 0.001, 0.01, 0.1, 1, 10, 100, 1000]}\n",
    "svc = svm.SVC()\n",
    "clf = GridSearchCV(svc, parameters)\n",
    "clf.fit(data_train, tag_train.ravel())\n",
    "sorted(clf.cv_results_.keys())\n",
    "\n",
    "print(clf.best_estimator_, clf.best_score_)\n",
    "print(clf.cv_results_[\"mean_test_score\"])"
   ]
  },
  {
   "cell_type": "code",
   "execution_count": 8,
   "metadata": {},
   "outputs": [
    {
     "data": {
      "text/plain": [
       "{'mean_fit_time': array([0.00104122, 0.00121131, 0.00107503, 0.0011302 , 0.00103683,\n",
       "        0.00114183, 0.00106368, 0.00111136, 0.00110621, 0.00115023,\n",
       "        0.00207238, 0.00116205]),\n",
       " 'std_fit_time': array([1.44612014e-04, 4.68361390e-05, 1.19675963e-04, 3.09953689e-05,\n",
       "        1.02066924e-04, 5.48912685e-05, 1.01170035e-04, 5.62808456e-05,\n",
       "        1.94700874e-04, 7.77688514e-05, 1.18410624e-03, 7.82547745e-05]),\n",
       " 'mean_score_time': array([0.00045538, 0.00069909, 0.00046458, 0.00068374, 0.00050769,\n",
       "        0.00068898, 0.00047307, 0.00069141, 0.00040898, 0.00063372,\n",
       "        0.00044661, 0.00058589]),\n",
       " 'std_score_time': array([4.29807271e-05, 2.01140517e-05, 3.11395475e-05, 3.51077814e-05,\n",
       "        9.86629663e-05, 3.06889817e-05, 6.15194597e-05, 7.04616252e-05,\n",
       "        9.89204402e-06, 3.29497582e-05, 3.56115960e-05, 2.75493055e-05]),\n",
       " 'param_C': masked_array(data=[0.001, 0.001, 0.01, 0.01, 0.1, 0.1, 1, 1, 10, 10, 100,\n",
       "                    100],\n",
       "              mask=[False, False, False, False, False, False, False, False,\n",
       "                    False, False, False, False],\n",
       "        fill_value='?',\n",
       "             dtype=object),\n",
       " 'param_kernel': masked_array(data=['poly', 'rbf', 'poly', 'rbf', 'poly', 'rbf', 'poly',\n",
       "                    'rbf', 'poly', 'rbf', 'poly', 'rbf'],\n",
       "              mask=[False, False, False, False, False, False, False, False,\n",
       "                    False, False, False, False],\n",
       "        fill_value='?',\n",
       "             dtype=object),\n",
       " 'params': [{'C': 0.001, 'kernel': 'poly'},\n",
       "  {'C': 0.001, 'kernel': 'rbf'},\n",
       "  {'C': 0.01, 'kernel': 'poly'},\n",
       "  {'C': 0.01, 'kernel': 'rbf'},\n",
       "  {'C': 0.1, 'kernel': 'poly'},\n",
       "  {'C': 0.1, 'kernel': 'rbf'},\n",
       "  {'C': 1, 'kernel': 'poly'},\n",
       "  {'C': 1, 'kernel': 'rbf'},\n",
       "  {'C': 10, 'kernel': 'poly'},\n",
       "  {'C': 10, 'kernel': 'rbf'},\n",
       "  {'C': 100, 'kernel': 'poly'},\n",
       "  {'C': 100, 'kernel': 'rbf'}],\n",
       " 'split0_test_score': array([0.36, 0.36, 0.36, 0.36, 0.36, 0.36, 0.36, 0.48, 0.4 , 0.56, 0.4 ,\n",
       "        0.6 ]),\n",
       " 'split1_test_score': array([0.36, 0.36, 0.36, 0.36, 0.36, 0.36, 0.36, 0.44, 0.36, 0.6 , 0.44,\n",
       "        0.6 ]),\n",
       " 'split2_test_score': array([0.36, 0.36, 0.36, 0.36, 0.36, 0.36, 0.36, 0.52, 0.4 , 0.6 , 0.44,\n",
       "        0.52]),\n",
       " 'split3_test_score': array([0.36, 0.36, 0.36, 0.36, 0.36, 0.36, 0.36, 0.4 , 0.36, 0.52, 0.36,\n",
       "        0.48]),\n",
       " 'split4_test_score': array([0.4 , 0.4 , 0.4 , 0.4 , 0.4 , 0.4 , 0.4 , 0.52, 0.36, 0.64, 0.36,\n",
       "        0.6 ]),\n",
       " 'mean_test_score': array([0.368, 0.368, 0.368, 0.368, 0.368, 0.368, 0.368, 0.472, 0.376,\n",
       "        0.584, 0.4  , 0.56 ]),\n",
       " 'std_test_score': array([0.016     , 0.016     , 0.016     , 0.016     , 0.016     ,\n",
       "        0.016     , 0.016     , 0.04664762, 0.01959592, 0.04079216,\n",
       "        0.03577709, 0.05059644]),\n",
       " 'rank_test_score': array([6, 6, 6, 6, 6, 6, 6, 3, 5, 1, 4, 2], dtype=int32)}"
      ]
     },
     "execution_count": 8,
     "metadata": {},
     "output_type": "execute_result"
    }
   ],
   "source": [
    "clf.cv_results_"
   ]
  }
 ],
 "metadata": {
  "kernelspec": {
   "display_name": "Python 3.9.12 ('zeroShot')",
   "language": "python",
   "name": "python3"
  },
  "language_info": {
   "codemirror_mode": {
    "name": "ipython",
    "version": 3
   },
   "file_extension": ".py",
   "mimetype": "text/x-python",
   "name": "python",
   "nbconvert_exporter": "python",
   "pygments_lexer": "ipython3",
   "version": "3.9.12"
  },
  "orig_nbformat": 4,
  "vscode": {
   "interpreter": {
    "hash": "86c8192e3b52dd5b61cf7d633d9cde44ca62fe25113112c353ce106148b537f5"
   }
  }
 },
 "nbformat": 4,
 "nbformat_minor": 2
}
