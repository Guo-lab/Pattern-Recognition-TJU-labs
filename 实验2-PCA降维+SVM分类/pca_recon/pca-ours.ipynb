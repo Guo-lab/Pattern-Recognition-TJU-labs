{
 "cells": [
  {
   "cell_type": "code",
   "execution_count": 27,
   "metadata": {},
   "outputs": [],
   "source": [
    "from sklearn.decomposition import PCA\n",
    "import numpy as np\n",
    "from PIL import Image\n",
    "import os"
   ]
  },
  {
   "cell_type": "code",
   "execution_count": 29,
   "metadata": {},
   "outputs": [],
   "source": [
    "def dataload(path):\n",
    "    all_image = []\n",
    "    re_path = []\n",
    "\n",
    "    for face_path_name in os.listdir(path):\n",
    "        #//print(face_path_name)\n",
    "        if face_path_name == '.DS_Store':                         #guosiqi\n",
    "            continue\n",
    "        \n",
    "        face_path = os.path.join(path, face_path_name)            #./class4-facedata-rgb/guosiqi\n",
    "        \n",
    "        for image_path_name in os.listdir(face_path):             #guosiqi.jpg\n",
    "\n",
    "            image_path = os.path.join(face_path, image_path_name) #./class4-facedata-rgb/guosiqi/guosiqi.jpg\n",
    "            \n",
    "            class4_person_dir = os.path.join(path.split('-')[0] + '_recon', face_path_name)\n",
    "            if not os.path.exists(class4_person_dir):\n",
    "                os.makedirs(class4_person_dir)\n",
    "            re_path.append(os.path.join(class4_person_dir, image_path_name))\n",
    "\n",
    "                \n",
    "            img_gray = Image.open(image_path).convert('L')\n",
    "            img_gray.save(os.path.join(os.path.join(path.split('-')[0]+'_recon', face_path_name, image_path_name)))\n",
    "            img_np = np.array(img_gray)\n",
    "            all_image.append(img_np)\n",
    "            \n",
    "    all_image = np.array(all_image) #(51, 250, 250)\n",
    "    #//print(all_image.shape)\n",
    "    all_image_flatten = all_image.reshape((all_image.shape[0], -1)) # (51, 62500) 62500 = 250*250\n",
    "    #//print(all_image_flatten.shape)\n",
    "    return all_image_flatten, re_path\n",
    "\n",
    "all_image_flatten, re_path = dataload('./class4-facedata-rgb')"
   ]
  },
  {
   "cell_type": "code",
   "execution_count": null,
   "metadata": {},
   "outputs": [],
   "source": [
    "len(re_path) # len: 51,  form: './class4_recon/guosiqi/guosiqi.jpg',"
   ]
  },
  {
   "cell_type": "code",
   "execution_count": 30,
   "metadata": {},
   "outputs": [],
   "source": [
    "def PCA_recon(all_image_flatten, re_path, components_value):\n",
    "    model = PCA(n_components=components_value) # n_components 不超过 min(n_samples, n_features)\n",
    "    \n",
    "    components = model.fit_transform(all_image_flatten)\n",
    "    \n",
    "    face_recon = model.inverse_transform(components) # (51, 62500)\n",
    "    #//print(face_recon.shape)\n",
    "    # Reshape the reconstructions, gray them and save them.\n",
    "    for i in range(face_recon.shape[0]):\n",
    "        each_face_recon = face_recon[i]    \n",
    "        each_face_recon = Image.fromarray(each_face_recon.reshape((250,250)))\n",
    "        each_face_recon = each_face_recon.convert('L') #*img_gray\n",
    "        each_face_recon.save(re_path[i].split('.jpg')[0] + '-recon-' + str(components_value) + '.jpg')\n",
    "        \n",
    "        \n",
    "        \n",
    "components_value_list = [1, 5, 10, 20, 30, 40, 50]\n",
    "for components_value in components_value_list:\n",
    "    PCA_recon(all_image_flatten, re_path, components_value)"
   ]
  }
 ],
 "metadata": {
  "kernelspec": {
   "display_name": "Python 3.9.12 ('zeroShot')",
   "language": "python",
   "name": "python3"
  },
  "language_info": {
   "codemirror_mode": {
    "name": "ipython",
    "version": 3
   },
   "file_extension": ".py",
   "mimetype": "text/x-python",
   "name": "python",
   "nbconvert_exporter": "python",
   "pygments_lexer": "ipython3",
   "version": "3.9.12"
  },
  "orig_nbformat": 4,
  "vscode": {
   "interpreter": {
    "hash": "86c8192e3b52dd5b61cf7d633d9cde44ca62fe25113112c353ce106148b537f5"
   }
  }
 },
 "nbformat": 4,
 "nbformat_minor": 2
}
